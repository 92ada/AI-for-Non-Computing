{
 "cells": [
  {
   "cell_type": "markdown",
   "metadata": {},
   "source": [
    "# Introduction to Artificial Intelligence for Non Computing"
   ]
  },
  {
   "cell_type": "markdown",
   "metadata": {},
   "source": [
    "## Practical 2 (weeks 3 - 4)"
   ]
  },
  {
   "cell_type": "markdown",
   "metadata": {},
   "source": [
    "## Search Techniques"
   ]
  },
  {
   "cell_type": "markdown",
   "metadata": {},
   "source": [
    "The following links provide additional information about depth first search and breath first search"
   ]
  },
  {
   "cell_type": "markdown",
   "metadata": {},
   "source": [
    "- Depth first search:   link：https://pan.baidu.com/s/1bkLHKKbSBNpfFuKwDyURqw  password：oy76\n",
    "- Breath first search:  link：https://pan.baidu.com/s/176g5q0W3rGbSAM5tZMraeg   password：7mdh"
   ]
  },
  {
   "cell_type": "markdown",
   "metadata": {},
   "source": [
    "#### Theory Questions "
   ]
  },
  {
   "cell_type": "markdown",
   "metadata": {},
   "source": [
    "1\\. What is an algorithm? A sequence of steps such as a recipe or a movie script.\n",
    "\n",
    "As a movie viewer, please write an algorithm for a process to \"see a movie\". Include details of the following for example (add additional information yourself):\n",
    "\t- The start conditions \n",
    "\t-- I want to watch a movie\n",
    "\t- Roles (people/actors involved) \n",
    "    --watcher, ticket seller etc \n",
    "    -Equipment required (\"props\")\n",
    "    --seats, ticket etc\n",
    "    - The scenes \n",
    "    -- scene 1 - buy ticket \n",
    "    -- ??? what happens next\n",
    "    -- scene 3, scene 3 ...\n",
    "    - Results/outcomes\n",
    "    -- ?\n"
   ]
  },
  {
   "cell_type": "markdown",
   "metadata": {},
   "source": [
    "_your answer here..._ \n",
    "\n",
    "***\n",
    "Screenplay:   \n",
    "(1) The start conditions   \n",
    "- I want to see a movie   \n",
    "- I have enough money to buy a movie ticket\n",
    "      \n",
    "(2) Roles:   \n",
    "        I, the ticket seller, the doorman\n",
    "      \n",
    "(3) Props:   \n",
    "        Movie tickets, Money, Movie, Seats\n",
    "        \n",
    "(4) Scenes:      \n",
    "    - Scene one: Buy a ticket   \n",
    "        (a)I walked to the ticket office and take out the money to the ticket seller.   \n",
    "        (b)The ticket seller took the money and gave me a movie ticket.   \n",
    "    - Scene two: Go to the cinema room   \n",
    "        (a)I took the ticket, walked to the cinema room, and took out the ticket for the doorman.   \n",
    "        (b)The doorman checked the ticket and let me in.   \n",
    "    - Scene three: Before the movie starts\n",
    "         I find my seat according to the ticket.   \n",
    "    - Scene four: The movie started \n",
    "         I watch the movie.   \n",
    "    - Scene five: The movie is finished    \n",
    "         I left the cinema.   \n",
    "      \n",
    "(5) results      \n",
    "- I watched a movie.   \n",
    "- I spent the money.\n",
    "- The cinema earned money.   \n"
   ]
  },
  {
   "cell_type": "markdown",
   "metadata": {},
   "source": [
    "2\\. A farmer with his wolf, duck and bag of corn come to the east side of a river they wish to cross. There is a boat at the rivers edge, but of course only the farmer can row. The boat can only hold two things (including the rower) at any one time. If the wolf is ever left alone with the duck, the wolf will eat it. Similarly if the duck is ever left alone with the corn, the duck will eat it. How can the farmer get across the river so that all four arrive safely on the other side? "
   ]
  },
  {
   "cell_type": "markdown",
   "metadata": {},
   "source": [
    "_your answer here..._ \n",
    "\n",
    "***\n",
    "(1) Farmer takes duck to left side (2) Farmer returns alone   \n",
    "(3) Farmer takes wolf to left side (4) Farmer returns with duck   \n",
    "(5) Farmer takes corn to left side (6) Farmer returns alone   \n",
    "(7) Farmer takes duck to left side   \n",
    "(8) Success"
   ]
  },
  {
   "cell_type": "markdown",
   "metadata": {},
   "source": [
    " "
   ]
  },
  {
   "cell_type": "markdown",
   "metadata": {},
   "source": [
    "3\\.Explain why we determine our problem goals before we write the problem formulation (including the model and deciding what algorithm or techniques to use - for example search, or other method).\n",
    "\n",
    "See Chapter3.1 (Russel & Norvig)"
   ]
  },
  {
   "cell_type": "markdown",
   "metadata": {},
   "source": [
    "_your answer here..._ \n",
    "\n",
    "****\n",
    "In the goal setting, we decide which aspects of the world we are interested in and which aspects can be ignored or abstracted. When writing formulas, we think about how to quantify goals, how to model and solve problems. If we first consider formulation rather than considering the problem goal, we don't know what to include and what to omit. That is to say, there may be a set of iterations between problem goal setting, problem formulation and problem resolution until a useful and effective solution is reached."
   ]
  },
  {
   "cell_type": "markdown",
   "metadata": {},
   "source": [
    "4\\. This question requires you to perform BFS and DFS on paper.\n",
    "\n",
    "<img src=\"img/p1.png\" width=\"180\" height=\"180\" >\n",
    "\n",
    "1. Simulate (on pencil-and-paper) breadth-first search starting from node A when the goal node is K.\n",
    "2. Simulate (on pencil-and-paper) depth first search starting from node A when the goal node is I.\n"
   ]
  },
  {
   "cell_type": "markdown",
   "metadata": {},
   "source": [
    "1. _your answer here..._ \n",
    "2. _your answer here..._ \n",
    "\n",
    "***  \n",
    "#### BFS:   \n",
    "A:[B]   \n",
    "B:[C,D]   \n",
    "C:[D,E,F]   \n",
    "D:[E,F,H,G]   \n",
    "E:[F,H,G]   \n",
    "F:[H,G]   \n",
    "H:[G,K,I]   \n",
    "G:[K,I]   \n",
    "K=goal\n",
    "\n",
    "#### DFS:      \n",
    "A:[B]   \n",
    "B:[C,D]   \n",
    "C:[E,G,D]   \n",
    "E:[F,D]   \n",
    "F:[D]   \n",
    "D:[H,G]   \n",
    "H:[I,K,G]   \n",
    "I=goal"
   ]
  },
  {
   "cell_type": "markdown",
   "metadata": {},
   "source": [
    "5\\.Consider a state space where the start state is number 1 and each state  k has two successors: numbers 2k and 2k + 1.\n",
    "- a. Draw the portion of the state space for states 1 to 15.\n",
    "- b. Suppose the goal state is 11. List the order in which nodes will be visited for breadthfirst\n",
    "search, depth-limited search with limit 3, and iterative deepening search.\n",
    "- c. How well would bidirectional search work on this problem? What is the branching\n",
    "factor in each direction of the bidirectional search?\n",
    "- d. Does the answer to (c) suggest a reformulation of the problem that would allow you to\n",
    "solve the problem of getting from state 1 to a given goal state with almost no search?\n",
    "- e. Call the action going from k to 2k Left, and the action going to 2k + 1 Right. Can you\n",
    "find an algorithm that outputs the solution to this problem without any search at all?\n",
    "\n",
    "See textbook Chapter3.15"
   ]
  },
  {
   "cell_type": "markdown",
   "metadata": {},
   "source": [
    "_your answer here..._ \n",
    "1. It's like an ordinary full binary tree with height of 4, root of 1.\n",
    "2. Breadth-first: 1 2 3 4 5 6 7 8 9 10 11.\n",
    "   Depth-limited: 1 2 4 8 9 5 10 11.\n",
    "   Iterative deepening: 1;   1 2 3;   1 2 4 5 3 6 7;  1 2 4 8 9 5 10 11\n",
    "3. Bidirectional search is very useful, because the only successor of n in the reverse direction is floor(n/2). This helps focus the search. The branching factor is 2 in the forward  direction and 1 in the reverse direction.\n",
    "4. Yes.\n",
    "5. The solution can be read off the binary numeral for the goal number. Write the goal number in binary. Since we can only reach positive integers, this binary expansion beings with a 1.  From  most- to least- significant bit, skipping the initial 1, go Left to the node 2n if this bit is 0 and go Right to node 2n + 1 if it is 1. For example, suppose the goal is 11, which is 1011 in binary. The solution is therefore Left, Right, Right. "
   ]
  },
  {
   "cell_type": "markdown",
   "metadata": {},
   "source": [
    "### Programming Excercises"
   ]
  },
  {
   "cell_type": "markdown",
   "metadata": {},
   "source": [
    "1\\.Write a program to solve a classic ancient Chinese puzzle:  \n",
    " We count 35 heads and 94 legs among the chickens and rabbits in a farm. How many rabbits and how many chickens do we have? "
   ]
  },
  {
   "cell_type": "code",
   "execution_count": 12,
   "metadata": {},
   "outputs": [
    {
     "name": "stdout",
     "output_type": "stream",
     "text": [
      "We have 23 rabbits and 12 chickens.\n"
     ]
    }
   ],
   "source": [
    "##Hint:Use for loop to iterate all possible\n",
    "## write your answer here!\n",
    "flag = False\n",
    "for rabbits in range(35):\n",
    "    chickens = 35 - rabbits\n",
    "    if rabbits * 2 + chickens * 4 == 94:\n",
    "        flag = True\n",
    "        print(\"We have {0} rabbits and {1} chickens.\".format(rabbits, chickens))\n",
    "if not flag:\n",
    "    print(\"No solution.\")"
   ]
  },
  {
   "cell_type": "markdown",
   "metadata": {},
   "source": [
    "2\\. _Social networking_ \n",
    "Please look at the graph below of social relationships. You have a mango farm, you need to find a mango buyer and sell him your mango that you have grown (just a small farm). To this end, our principle is to use our social network of friends separated by one degree, and then second degree friends (friends of friends), third degree friends (friends of friends of friends).\n",
    "\n",
    "Use the depth first algorithm to search your network until you find a mango seller. \n",
    "\n",
    "We make an assumption that if the person's name ends with m, then it means the person must be the mango seller!\n",
    "\n",
    "\n",
    "<img src=\"img/p3.png\" width=\"500\" height=\"400\" >"
   ]
  },
  {
   "cell_type": "code",
   "execution_count": 14,
   "metadata": {},
   "outputs": [
    {
     "name": "stdout",
     "output_type": "stream",
     "text": [
      "Find thom!\n"
     ]
    }
   ],
   "source": [
    "## write your answer here!\n",
    "graph = {}\n",
    "graph[\"you\"] = [\"alice\", \"bob\", \"claire\"]\n",
    "graph[\"bob\"] = [\"anuj\", \"peggy\"]\n",
    "graph[\"alice\"] = [\"peggy\"]\n",
    "graph[\"claire\"] = [\"thom\", \"jonny\"]\n",
    "graph[\"anuj\"] = []\n",
    "graph[\"peggy\"] = []\n",
    "graph[\"thom\"] = []\n",
    "graph[\"jonny\"] = []\n",
    "\n",
    "def dfs(x):\n",
    "    if x[-1] == \"m\":\n",
    "        print(\"Find {0}!\".format(x))\n",
    "    for nxt in graph[x]:\n",
    "        dfs(nxt)\n",
    "        \n",
    "dfs(\"you\")"
   ]
  },
  {
   "cell_type": "markdown",
   "metadata": {},
   "source": [
    "3\\. Depth First traverse：Use depth first traversal to traverse all the DLL files on the C disk and output the file names.\n",
    "\n",
    "Update your code to search for a particular filename.\n",
    "\n",
    "What protocol did you use to select the next node to expand on the fringe?"
   ]
  },
  {
   "cell_type": "code",
   "execution_count": 30,
   "metadata": {},
   "outputs": [
    {
     "name": "stdout",
     "output_type": "stream",
     "text": [
      "indexNamesMap.txt\n",
      "javaLikeNames.txt\n",
      "savedIndexNames.txt\n",
      "readme1st.txt\n",
      "ReadMe.txt\n",
      "chess_log-2.txt\n",
      "chess_log.txt\n",
      "in.txt\n",
      "out.txt\n",
      "in.txt\n",
      "out.txt\n",
      "in.txt\n",
      "out.txt\n",
      "in.txt\n",
      "out.txt\n",
      "in.txt\n",
      "out.txt\n",
      "in.txt\n",
      "out.txt\n",
      "in.txt\n",
      "out.txt\n",
      "in.txt\n",
      "out.txt\n",
      "in.txt\n",
      "out.txt\n",
      "in.txt\n",
      "out.txt\n",
      "in.txt\n",
      "out.txt\n",
      "in.txt\n",
      "out.txt\n",
      "in.txt\n",
      "out.txt\n",
      "in.txt\n",
      "out.txt\n",
      "in.txt\n",
      "out.txt\n",
      "in.txt\n",
      "out.txt\n",
      "in.txt\n",
      "out.txt\n",
      "in.txt\n",
      "out.txt\n",
      "in.txt\n",
      "out.txt\n",
      "in.txt\n",
      "out.txt\n",
      "regisinfo.txt\n",
      "shareHold.txt\n",
      "ask.txt\n",
      "regisinfo.txt\n",
      "shareHold.txt\n",
      "EX1_LuXintong.txt\n",
      "NOTICE.txt\n",
      "NOTICE.txt\n",
      "NOTICE.txt\n",
      "NOTICE.txt\n",
      "duilib license.txt\n",
      "License.txt\n",
      "LICENSE.txt\n",
      "LICENSE.txt\n",
      "LICENSE.txt\n",
      "LICENSE.txt\n",
      "LICENSE.txt\n",
      "LICENSE.txt\n",
      "articles.txt\n",
      "magazines.txt\n",
      "sources.txt\n",
      "topics.txt\n",
      "articles.txt\n",
      "magazines.txt\n",
      "sources.txt\n",
      "topics.txt\n",
      "ReadMe.txt\n",
      "真正的悲悯情怀.txt\n"
     ]
    }
   ],
   "source": [
    "## write your answer here!\n",
    "import os\n",
    "import fnmatch\n",
    "def dfs(path):\n",
    "    try:\n",
    "        lst = os.listdir(path)\n",
    "    except FileNotFoundError as e:\n",
    "        print(str(e))\n",
    "        return\n",
    "    for filename in lst:\n",
    "        filepath = os.path.join(path, filename)\n",
    "        if os.path.isfile(filepath):\n",
    "            if fnmatch.fnmatch(filename, '*.txt'):\n",
    "                print(filename)\n",
    "        else:\n",
    "            dfs(filepath)\n",
    "            \n",
    "dfs('/Users/apple/downloads')\n",
    "# I'm using a Macbook and there's no C disk or .dll file (MacOS is using .lib)"
   ]
  },
  {
   "cell_type": "markdown",
   "metadata": {},
   "source": [
    "4\\.\n",
    "Breadth First traverse：Use breadth traversal to traverse all the DLL files on the C disk and output the filename.\n",
    "\n",
    "Update your code to search for a particular filename."
   ]
  },
  {
   "cell_type": "code",
   "execution_count": 27,
   "metadata": {},
   "outputs": [
    {
     "name": "stdout",
     "output_type": "stream",
     "text": [
      "chess_log-2.txt\n",
      "chess_log.txt\n",
      "真正的悲悯情怀.txt\n",
      "readme1st.txt\n",
      "ReadMe.txt\n",
      "EX1_LuXintong.txt\n",
      "duilib license.txt\n",
      "ReadMe.txt\n",
      "regisinfo.txt\n",
      "shareHold.txt\n",
      "ask.txt\n",
      "regisinfo.txt\n",
      "shareHold.txt\n",
      "articles.txt\n",
      "magazines.txt\n",
      "sources.txt\n",
      "topics.txt\n",
      "articles.txt\n",
      "magazines.txt\n",
      "sources.txt\n",
      "topics.txt\n",
      "indexNamesMap.txt\n",
      "javaLikeNames.txt\n",
      "savedIndexNames.txt\n",
      "License.txt\n",
      "in.txt\n",
      "out.txt\n",
      "in.txt\n",
      "out.txt\n",
      "in.txt\n",
      "out.txt\n",
      "in.txt\n",
      "out.txt\n",
      "in.txt\n",
      "out.txt\n",
      "in.txt\n",
      "out.txt\n",
      "in.txt\n",
      "out.txt\n",
      "in.txt\n",
      "out.txt\n",
      "in.txt\n",
      "out.txt\n",
      "in.txt\n",
      "out.txt\n",
      "in.txt\n",
      "out.txt\n",
      "in.txt\n",
      "out.txt\n",
      "in.txt\n",
      "out.txt\n",
      "in.txt\n",
      "out.txt\n",
      "in.txt\n",
      "out.txt\n",
      "in.txt\n",
      "out.txt\n",
      "in.txt\n",
      "out.txt\n",
      "in.txt\n",
      "out.txt\n",
      "in.txt\n",
      "out.txt\n",
      "in.txt\n",
      "out.txt\n",
      "NOTICE.txt\n",
      "NOTICE.txt\n",
      "NOTICE.txt\n",
      "NOTICE.txt\n",
      "LICENSE.txt\n",
      "LICENSE.txt\n",
      "LICENSE.txt\n",
      "LICENSE.txt\n",
      "LICENSE.txt\n",
      "LICENSE.txt\n"
     ]
    }
   ],
   "source": [
    "## write your answer here!\n",
    "queue = ['/Users/apple/downloads']\n",
    "while queue != []:\n",
    "    path = queue.pop(0)\n",
    "    try:\n",
    "        lst = os.listdir(path)\n",
    "    except FileNotFoundError as e:\n",
    "        print(str(e))\n",
    "        break\n",
    "    for filename in lst:\n",
    "        filepath = os.path.join(path, filename)\n",
    "        if os.path.isfile(filepath):\n",
    "            if fnmatch.fnmatch(filename, '*.txt'):\n",
    "                print(filename)\n",
    "        else:\n",
    "            queue.append(filepath)"
   ]
  },
  {
   "cell_type": "markdown",
   "metadata": {},
   "source": [
    "5\\. Uniform cost search"
   ]
  },
  {
   "cell_type": "markdown",
   "metadata": {},
   "source": [
    "Consider a state space where the start state is 2 and each state k has three successors: numbers 2k, 2k+1, 2k+2. The cost from state k to each respective child is k, ground(k/2), k+2.\n",
    "\n",
    "can you implement a uniform-cost-search algorithm with python. The goal state is number 85."
   ]
  },
  {
   "cell_type": "code",
   "execution_count": 39,
   "metadata": {},
   "outputs": [
    {
     "name": "stdout",
     "output_type": "stream",
     "text": [
      "53\n"
     ]
    }
   ],
   "source": [
    "cost = {}\n",
    "cost[2] = 0\n",
    "def not_avaliable(k):\n",
    "    return k not in cost.keys()\n",
    "\n",
    "for k in range(2, 43):\n",
    "    if not_avaliable(k): continue\n",
    "    for nxt, cst in [(2*k, k), (2*k+1, k//2), (2*k+2, k+2)]:\n",
    "        if not_avaliable(nxt):\n",
    "            cost[nxt] = cost[k] + cst\n",
    "        else: \n",
    "            cost[nxt] = min(cost[nxt], cost[k] + cst)\n",
    "                            \n",
    "print(cost[85])\n",
    "    "
   ]
  },
  {
   "cell_type": "markdown",
   "metadata": {},
   "source": [
    "6\\.a* question"
   ]
  },
  {
   "cell_type": "markdown",
   "metadata": {},
   "source": [
    "A cute cat stays in the A position, he is hungry. But the food is placed in the B position. Can you help him to find the food? \n",
    "Hint:  The problem isn't easy. It's essential for you to understand the A* algorithm before you solve this problem. Then, you can use some thought of Node in java, when you are in code.\n",
    "\n",
    "<img src=\"img/p4.png\" width=\"500\" height=\"400\" >\n"
   ]
  },
  {
   "cell_type": "code",
   "execution_count": 161,
   "metadata": {},
   "outputs": [
    {
     "data": {
      "text/plain": [
       "array([[0., 0., 0., 0., 0., 0., 0.],\n",
       "       [0., 0., 0., 3., 0., 0., 0.],\n",
       "       [0., 1., 0., 3., 0., 2., 0.],\n",
       "       [0., 0., 0., 3., 0., 0., 0.],\n",
       "       [0., 0., 0., 0., 0., 0., 0.]])"
      ]
     },
     "execution_count": 161,
     "metadata": {},
     "output_type": "execute_result"
    }
   ],
   "source": [
    "## write your answer here!\n",
    "import numpy\n",
    "SHAPE = (5,7)\n",
    "the_map = numpy.zeros(SHAPE)\n",
    "the_map[2,1] = 1\n",
    "the_map[1:-1, 3] = 3\n",
    "the_map[2, -2] = 2\n",
    "the_map"
   ]
  },
  {
   "cell_type": "code",
   "execution_count": 172,
   "metadata": {},
   "outputs": [
    {
     "data": {
      "text/plain": [
       "8"
      ]
     },
     "execution_count": 172,
     "metadata": {},
     "output_type": "execute_result"
    }
   ],
   "source": [
    "def in_bound(pos):\n",
    "    x, y = pos\n",
    "    max_x, max_y = SHAPE\n",
    "    return  x >= 0 and x < max_x and y >= 0 and y < max_y\n",
    "\n",
    "def heuristic(pos):\n",
    "    x, y = pos\n",
    "    return (abs(x-2) + abs(y-5))*2\n",
    "\n",
    "choose_list = [((2,1), 0+4)]\n",
    "INF = 100\n",
    "cost = numpy.full(SHAPE, INF)\n",
    "cost[(2,1)] = 0\n",
    "while choose_list != []:\n",
    "    pos, _ = choose_list.pop(0)\n",
    "#     print(pos)\n",
    "#     print(cost)\n",
    "\n",
    "    if the_map[pos] == 2:\n",
    "        break\n",
    "    \n",
    "    x, y = pos\n",
    "    nxt_poses = []\n",
    "    for nxt in [(x+1, y), (x-1, y), (x, y+1), (x,y-1)]:\n",
    "        if in_bound(nxt) and the_map[nxt] != 3:\n",
    "            nxt_poses.append(nxt)\n",
    "            \n",
    "    for nxt in nxt_poses:            \n",
    "        # Do not search the way that would definitely get worse result\n",
    "        if cost[pos] + 1 > cost[nxt]: \n",
    "            continue\n",
    "        else:\n",
    "            cost[nxt] = cost[pos] + 1\n",
    "            \n",
    "        # Ordering the priority queue heuristicly\n",
    "        choose_list.append((nxt, cost[nxt] + heuristic(nxt)))\n",
    "    \n",
    "    choose_list = list(set(choose_list))\n",
    "    choose_list.sort(key=lambda tup: tup[1])\n",
    "\n",
    "cost[(2,-2)]"
   ]
  },
  {
   "cell_type": "code",
   "execution_count": 174,
   "metadata": {},
   "outputs": [
    {
     "data": {
      "text/plain": [
       "array([[100,   2,   3, 100, 100, 100, 100],\n",
       "       [  2,   1,   2, 100, 100, 100, 100],\n",
       "       [  1,   0,   1, 100,   7,   8, 100],\n",
       "       [  2,   1,   2, 100,   6,   7,   8],\n",
       "       [100,   2,   3,   4,   5,   6, 100]])"
      ]
     },
     "execution_count": 174,
     "metadata": {},
     "output_type": "execute_result"
    }
   ],
   "source": [
    "cost \n",
    "# in the cost map, 100 means the cat never goes there"
   ]
  },
  {
   "cell_type": "code",
   "execution_count": null,
   "metadata": {
    "collapsed": true
   },
   "outputs": [],
   "source": []
  }
 ],
 "metadata": {
  "kernelspec": {
   "display_name": "Python 3",
   "language": "python",
   "name": "python3"
  },
  "language_info": {
   "codemirror_mode": {
    "name": "ipython",
    "version": 3
   },
   "file_extension": ".py",
   "mimetype": "text/x-python",
   "name": "python",
   "nbconvert_exporter": "python",
   "pygments_lexer": "ipython3",
   "version": "3.6.7"
  }
 },
 "nbformat": 4,
 "nbformat_minor": 2
}
